{
 "cells": [
  {
   "cell_type": "markdown",
   "id": "68fb45f1",
   "metadata": {},
   "source": [
    "# Riko Fadilah Alam\n",
    "\n",
    "Notebook ini berisi analisis saya sebagai data analyst di perusahaan travel. Saya menganalisis tingkat ketertarikan customer untuk berwisata dengan tujuan pantai atau gunung. Hasil analisis akan ditampilkan di Tableau Public dengan link berikut \"https://public.tableau.com/app/profile/riko.f.alam/viz/MountainsandBeachersVacationPreference/MountainsandBeachesVacationPreference?publish=yes\"\n",
    " \n",
    "\n"
   ]
  },
  {
   "cell_type": "markdown",
   "id": "5f274066",
   "metadata": {},
   "source": [
    "# **2. Problem Statement and Dataset Description**\n"
   ]
  },
  {
   "cell_type": "markdown",
   "id": "281c637c",
   "metadata": {},
   "source": [
    "Saya merupakan Data Analyst di perusahaan jasa dibidang travel. Saya ingin menganalisis karakteristik kecenderungan customer untuk memilih lebih suka pergi liburan ke pantai atau gunung. Berdasarkan dari hasil analisis ini akan dibuat rekomendasi dalam menentukan budget untuk promosi\n",
    "\n",
    "# SMART\n",
    "\n",
    "Specific: Mengetahui karakteristik kecenderungan customer untuk berlibur ke Pantai atau Gunung, untuk meningkatkan efektivitas strategi promosi.\n",
    "\n",
    "Measurable: Mengukur keberhasilan strategi berdasarkan analisis terhadap 5 karakteristik  customer yaitu: Usia, Pendapatan, Tempat tinggal, Jarak ke tempat wisata, dan Musim favorit untuk berlibur.\n",
    "\n",
    "Achievable: Data diambil dari refrensi 'Mountains vs. Beaches Preferences' dari kaggle.com\n",
    "\n",
    "Relevant: Analisis akan relevan untuk mengarahkan alokasi budget promosi ke customer yang lebih potensial, sehingga meningkatkan efisiensi biaya promosi.\n",
    "\n",
    "Time-Bound: Analisis dilakukan berdasarkan data selama satu tahun dan akan dianalisis dalam Satu minggu, serta direncanakan akan dimulai dalam kuartal promosi berikutnya.\n",
    "\n",
    "# Problem Statement\n",
    "\n",
    "\"Wisatawan akan dianalisis kecenderungannya berwisata di Pantai atau Gunung berdasarkan usia, pendapatan, tempat tinggal, jarak ke tempat wisata, dan musim favorit. Hal ini dilakukan agar dapat dijadikan acuan untuk melakukan promosi yang tepat dalam penentuan jenis customer, sehingga perusahaan akan mendapatkan keuntungan berdasarkan pemilihan waktu serta customer yang tepat.\"\n",
    "\n",
    "# Unsur 5W 1H \n",
    "\n",
    "> Siapa yang akan dijadikan target untuk dianalisis?\n",
    "Wisatawan dari berbagai jenis karakteristik mereka, yaitu: usia, pendapatan, tempat tinggal, jarak ke tempat wisata, dan musim favorit untuk berlibur.\n",
    "\n",
    "> Apa yang ingin diketahui?\n",
    "Preferensi antara target wisata pantai dan gunung, serta faktor yang mempengaruhi pilihan tersebut.\n",
    "\n",
    "> Kapan data ini akan relevan untuk digunakan?\n",
    "Saat akan menentukan budget promosi dari musim yang ada dan target customer yang akan dituju.\n",
    "\n",
    "> Dimana lokasi promosi yang akan dipilih?\n",
    "Pemilihan lokasi promosi dipilih berdasarkan data tempat tinggal para wisatawan dan jarak mereka dari Pantai atau Gunung.\n",
    "\n",
    "> Kenapa memilih analisis ini?\n",
    "Untuk meningkatkan efektivitas budget marketing, target pasar, serta tempat promosi.\n",
    "\n",
    "> Bagaimana cara penghitungan datanya sebarannya??\n",
    "Data dianalisis dengan melakukan eksplorasi data, perbandingan dari tiap tipe data, analisa perbandingan, statistik, independent, dan korelasinya.\n",
    "\n",
    "# Target Audience\n",
    "Jasa travel yang ingin mengetahui preferensi tempat berlibur dari customer, sehingga dapat memasimalkan budget marketing mereka. "
   ]
  },
  {
   "cell_type": "markdown",
   "id": "5a2c2aed",
   "metadata": {},
   "source": [
    "## **3. Data Loading** "
   ]
  },
  {
   "cell_type": "markdown",
   "id": "bbb16f1a",
   "metadata": {},
   "source": [
    "Data berasal dari link berikut ini 'https://www.kaggle.com/datasets/jahnavipaliwal/mountains-vs-beaches-preference'"
   ]
  },
  {
   "cell_type": "code",
   "execution_count": 41,
   "id": "1259670a",
   "metadata": {},
   "outputs": [],
   "source": [
    "# Import libraries\n",
    "import pandas as pd\n",
    "from scipy import stats\n",
    "import numpy as np\n",
    "import matplotlib.pyplot as plt\n",
    "import seaborn as sns"
   ]
  },
  {
   "cell_type": "code",
   "execution_count": 42,
   "id": "41cbb404",
   "metadata": {},
   "outputs": [
    {
     "data": {
      "text/html": [
       "<div>\n",
       "<style scoped>\n",
       "    .dataframe tbody tr th:only-of-type {\n",
       "        vertical-align: middle;\n",
       "    }\n",
       "\n",
       "    .dataframe tbody tr th {\n",
       "        vertical-align: top;\n",
       "    }\n",
       "\n",
       "    .dataframe thead th {\n",
       "        text-align: right;\n",
       "    }\n",
       "</style>\n",
       "<table border=\"1\" class=\"dataframe\">\n",
       "  <thead>\n",
       "    <tr style=\"text-align: right;\">\n",
       "      <th></th>\n",
       "      <th>Age</th>\n",
       "      <th>Gender</th>\n",
       "      <th>Income</th>\n",
       "      <th>Education_Level</th>\n",
       "      <th>Travel_Frequency</th>\n",
       "      <th>Preferred_Activities</th>\n",
       "      <th>Vacation_Budget</th>\n",
       "      <th>Location</th>\n",
       "      <th>Proximity_to_Mountains</th>\n",
       "      <th>Proximity_to_Beaches</th>\n",
       "      <th>Favorite_Season</th>\n",
       "      <th>Pets</th>\n",
       "      <th>Environmental_Concerns</th>\n",
       "      <th>Preference</th>\n",
       "    </tr>\n",
       "  </thead>\n",
       "  <tbody>\n",
       "    <tr>\n",
       "      <th>0</th>\n",
       "      <td>56</td>\n",
       "      <td>male</td>\n",
       "      <td>71477</td>\n",
       "      <td>bachelor</td>\n",
       "      <td>9</td>\n",
       "      <td>skiing</td>\n",
       "      <td>2477</td>\n",
       "      <td>urban</td>\n",
       "      <td>175</td>\n",
       "      <td>267</td>\n",
       "      <td>summer</td>\n",
       "      <td>0</td>\n",
       "      <td>1</td>\n",
       "      <td>1</td>\n",
       "    </tr>\n",
       "    <tr>\n",
       "      <th>1</th>\n",
       "      <td>69</td>\n",
       "      <td>male</td>\n",
       "      <td>88740</td>\n",
       "      <td>master</td>\n",
       "      <td>1</td>\n",
       "      <td>swimming</td>\n",
       "      <td>4777</td>\n",
       "      <td>suburban</td>\n",
       "      <td>228</td>\n",
       "      <td>190</td>\n",
       "      <td>fall</td>\n",
       "      <td>0</td>\n",
       "      <td>1</td>\n",
       "      <td>0</td>\n",
       "    </tr>\n",
       "    <tr>\n",
       "      <th>2</th>\n",
       "      <td>46</td>\n",
       "      <td>female</td>\n",
       "      <td>46562</td>\n",
       "      <td>master</td>\n",
       "      <td>0</td>\n",
       "      <td>skiing</td>\n",
       "      <td>1469</td>\n",
       "      <td>urban</td>\n",
       "      <td>71</td>\n",
       "      <td>280</td>\n",
       "      <td>winter</td>\n",
       "      <td>0</td>\n",
       "      <td>0</td>\n",
       "      <td>1</td>\n",
       "    </tr>\n",
       "    <tr>\n",
       "      <th>3</th>\n",
       "      <td>32</td>\n",
       "      <td>non-binary</td>\n",
       "      <td>99044</td>\n",
       "      <td>high school</td>\n",
       "      <td>6</td>\n",
       "      <td>hiking</td>\n",
       "      <td>1482</td>\n",
       "      <td>rural</td>\n",
       "      <td>31</td>\n",
       "      <td>255</td>\n",
       "      <td>summer</td>\n",
       "      <td>1</td>\n",
       "      <td>0</td>\n",
       "      <td>1</td>\n",
       "    </tr>\n",
       "    <tr>\n",
       "      <th>4</th>\n",
       "      <td>60</td>\n",
       "      <td>female</td>\n",
       "      <td>106583</td>\n",
       "      <td>high school</td>\n",
       "      <td>5</td>\n",
       "      <td>sunbathing</td>\n",
       "      <td>516</td>\n",
       "      <td>suburban</td>\n",
       "      <td>23</td>\n",
       "      <td>151</td>\n",
       "      <td>winter</td>\n",
       "      <td>1</td>\n",
       "      <td>1</td>\n",
       "      <td>0</td>\n",
       "    </tr>\n",
       "    <tr>\n",
       "      <th>...</th>\n",
       "      <td>...</td>\n",
       "      <td>...</td>\n",
       "      <td>...</td>\n",
       "      <td>...</td>\n",
       "      <td>...</td>\n",
       "      <td>...</td>\n",
       "      <td>...</td>\n",
       "      <td>...</td>\n",
       "      <td>...</td>\n",
       "      <td>...</td>\n",
       "      <td>...</td>\n",
       "      <td>...</td>\n",
       "      <td>...</td>\n",
       "      <td>...</td>\n",
       "    </tr>\n",
       "    <tr>\n",
       "      <th>52439</th>\n",
       "      <td>67</td>\n",
       "      <td>female</td>\n",
       "      <td>85325</td>\n",
       "      <td>master</td>\n",
       "      <td>3</td>\n",
       "      <td>hiking</td>\n",
       "      <td>1762</td>\n",
       "      <td>suburban</td>\n",
       "      <td>51</td>\n",
       "      <td>262</td>\n",
       "      <td>fall</td>\n",
       "      <td>1</td>\n",
       "      <td>0</td>\n",
       "      <td>1</td>\n",
       "    </tr>\n",
       "    <tr>\n",
       "      <th>52440</th>\n",
       "      <td>37</td>\n",
       "      <td>female</td>\n",
       "      <td>110346</td>\n",
       "      <td>bachelor</td>\n",
       "      <td>7</td>\n",
       "      <td>swimming</td>\n",
       "      <td>1676</td>\n",
       "      <td>urban</td>\n",
       "      <td>259</td>\n",
       "      <td>84</td>\n",
       "      <td>spring</td>\n",
       "      <td>1</td>\n",
       "      <td>0</td>\n",
       "      <td>0</td>\n",
       "    </tr>\n",
       "    <tr>\n",
       "      <th>52441</th>\n",
       "      <td>53</td>\n",
       "      <td>non-binary</td>\n",
       "      <td>71080</td>\n",
       "      <td>doctorate</td>\n",
       "      <td>7</td>\n",
       "      <td>swimming</td>\n",
       "      <td>3877</td>\n",
       "      <td>urban</td>\n",
       "      <td>164</td>\n",
       "      <td>27</td>\n",
       "      <td>fall</td>\n",
       "      <td>0</td>\n",
       "      <td>1</td>\n",
       "      <td>0</td>\n",
       "    </tr>\n",
       "    <tr>\n",
       "      <th>52442</th>\n",
       "      <td>40</td>\n",
       "      <td>female</td>\n",
       "      <td>75174</td>\n",
       "      <td>doctorate</td>\n",
       "      <td>9</td>\n",
       "      <td>swimming</td>\n",
       "      <td>4620</td>\n",
       "      <td>suburban</td>\n",
       "      <td>173</td>\n",
       "      <td>10</td>\n",
       "      <td>summer</td>\n",
       "      <td>0</td>\n",
       "      <td>1</td>\n",
       "      <td>0</td>\n",
       "    </tr>\n",
       "    <tr>\n",
       "      <th>52443</th>\n",
       "      <td>33</td>\n",
       "      <td>non-binary</td>\n",
       "      <td>34475</td>\n",
       "      <td>master</td>\n",
       "      <td>6</td>\n",
       "      <td>hiking</td>\n",
       "      <td>928</td>\n",
       "      <td>suburban</td>\n",
       "      <td>218</td>\n",
       "      <td>166</td>\n",
       "      <td>spring</td>\n",
       "      <td>1</td>\n",
       "      <td>0</td>\n",
       "      <td>0</td>\n",
       "    </tr>\n",
       "  </tbody>\n",
       "</table>\n",
       "<p>52444 rows × 14 columns</p>\n",
       "</div>"
      ],
      "text/plain": [
       "       Age      Gender  Income Education_Level  Travel_Frequency  \\\n",
       "0       56        male   71477        bachelor                 9   \n",
       "1       69        male   88740          master                 1   \n",
       "2       46      female   46562          master                 0   \n",
       "3       32  non-binary   99044     high school                 6   \n",
       "4       60      female  106583     high school                 5   \n",
       "...    ...         ...     ...             ...               ...   \n",
       "52439   67      female   85325          master                 3   \n",
       "52440   37      female  110346        bachelor                 7   \n",
       "52441   53  non-binary   71080       doctorate                 7   \n",
       "52442   40      female   75174       doctorate                 9   \n",
       "52443   33  non-binary   34475          master                 6   \n",
       "\n",
       "      Preferred_Activities  Vacation_Budget  Location  Proximity_to_Mountains  \\\n",
       "0                   skiing             2477     urban                     175   \n",
       "1                 swimming             4777  suburban                     228   \n",
       "2                   skiing             1469     urban                      71   \n",
       "3                   hiking             1482     rural                      31   \n",
       "4               sunbathing              516  suburban                      23   \n",
       "...                    ...              ...       ...                     ...   \n",
       "52439               hiking             1762  suburban                      51   \n",
       "52440             swimming             1676     urban                     259   \n",
       "52441             swimming             3877     urban                     164   \n",
       "52442             swimming             4620  suburban                     173   \n",
       "52443               hiking              928  suburban                     218   \n",
       "\n",
       "       Proximity_to_Beaches Favorite_Season  Pets  Environmental_Concerns  \\\n",
       "0                       267          summer     0                       1   \n",
       "1                       190            fall     0                       1   \n",
       "2                       280          winter     0                       0   \n",
       "3                       255          summer     1                       0   \n",
       "4                       151          winter     1                       1   \n",
       "...                     ...             ...   ...                     ...   \n",
       "52439                   262            fall     1                       0   \n",
       "52440                    84          spring     1                       0   \n",
       "52441                    27            fall     0                       1   \n",
       "52442                    10          summer     0                       1   \n",
       "52443                   166          spring     1                       0   \n",
       "\n",
       "       Preference  \n",
       "0               1  \n",
       "1               0  \n",
       "2               1  \n",
       "3               1  \n",
       "4               0  \n",
       "...           ...  \n",
       "52439           1  \n",
       "52440           0  \n",
       "52441           0  \n",
       "52442           0  \n",
       "52443           0  \n",
       "\n",
       "[52444 rows x 14 columns]"
      ]
     },
     "execution_count": 42,
     "metadata": {},
     "output_type": "execute_result"
    }
   ],
   "source": [
    "# Membaca dataset\n",
    "df = pd.read_csv('P0M1_riko_fadilah_dataset.csv')\n",
    "df"
   ]
  },
  {
   "cell_type": "markdown",
   "id": "64625bb5",
   "metadata": {},
   "source": [
    "## **4. Data Cleaning**\n",
    "\n",
    "Menampilkan informasi pada dataset\n"
   ]
  },
  {
   "cell_type": "code",
   "execution_count": 43,
   "id": "1cb000d7",
   "metadata": {},
   "outputs": [
    {
     "name": "stdout",
     "output_type": "stream",
     "text": [
      "<class 'pandas.core.frame.DataFrame'>\n",
      "RangeIndex: 52444 entries, 0 to 52443\n",
      "Data columns (total 14 columns):\n",
      " #   Column                  Non-Null Count  Dtype \n",
      "---  ------                  --------------  ----- \n",
      " 0   Age                     52444 non-null  int64 \n",
      " 1   Gender                  52444 non-null  object\n",
      " 2   Income                  52444 non-null  int64 \n",
      " 3   Education_Level         52444 non-null  object\n",
      " 4   Travel_Frequency        52444 non-null  int64 \n",
      " 5   Preferred_Activities    52444 non-null  object\n",
      " 6   Vacation_Budget         52444 non-null  int64 \n",
      " 7   Location                52444 non-null  object\n",
      " 8   Proximity_to_Mountains  52444 non-null  int64 \n",
      " 9   Proximity_to_Beaches    52444 non-null  int64 \n",
      " 10  Favorite_Season         52444 non-null  object\n",
      " 11  Pets                    52444 non-null  int64 \n",
      " 12  Environmental_Concerns  52444 non-null  int64 \n",
      " 13  Preference              52444 non-null  int64 \n",
      "dtypes: int64(9), object(5)\n",
      "memory usage: 5.6+ MB\n"
     ]
    }
   ],
   "source": [
    "# Melihat informasi dataset\n",
    "df = pd.read_csv('P0M1_riko_fadilah_dataset.csv')\n",
    "df.info()\n"
   ]
  },
  {
   "cell_type": "markdown",
   "id": "9efcd922",
   "metadata": {},
   "source": [
    "Menampilkan tiap jenis data dalam tiap dataset. Karena tidak ada data yang kosong maka tidak dilakukan data cleaning. "
   ]
  },
  {
   "cell_type": "code",
   "execution_count": 44,
   "id": "066e86a5",
   "metadata": {},
   "outputs": [
    {
     "name": "stdout",
     "output_type": "stream",
     "text": [
      "\n",
      "Kolom: Age\n",
      "[56 69 46 32 60 25 38 36 40 28 41 53 57 20 39 19 61 47 55 50 29 42 66 44\n",
      " 59 45 33 64 68 54 24 26 35 21 31 67 43 37 52 34 23 51 27 48 65 62 58 18\n",
      " 22 30 49 63]\n",
      "\n",
      "Kolom: Gender\n",
      "['male' 'female' 'non-binary']\n",
      "\n",
      "Kolom: Income\n",
      "[ 71477  88740  46562 ... 110346  75174  34475]\n",
      "\n",
      "Kolom: Education_Level\n",
      "['bachelor' 'master' 'high school' 'doctorate']\n",
      "\n",
      "Kolom: Travel_Frequency\n",
      "[9 1 0 6 5 3 8 4 7 2]\n",
      "\n",
      "Kolom: Preferred_Activities\n",
      "['skiing' 'swimming' 'hiking' 'sunbathing']\n",
      "\n",
      "Kolom: Vacation_Budget\n",
      "[2477 4777 1469 ... 2514 4744  646]\n",
      "\n",
      "Kolom: Location\n",
      "['urban' 'suburban' 'rural']\n",
      "\n",
      "Kolom: Proximity_to_Mountains\n",
      "[175 228  71  31  23   6 157 210 218 271 159  33 130 211  36  77 280 253\n",
      " 162 207 296 298 263 164 234 243  48 220 256 201 165  30 209  46 118 107\n",
      " 288  51  93 260 212 246 274 250 231 123  49 266 160  84  25 197 241 264\n",
      "  13  64 166 261 279 278  98  20 105 195 277  26 258  79 283  38 242 117\n",
      " 136 192 106 109 215  68  54  61 240 244 254   7 284 232 290 185 171  91\n",
      " 190 173 129   1 167  17  56 133  45  80 150  19 170 286 156  76  69 213\n",
      " 249 222 259 151  52  15 223 289   8  43 161 270 158  74 251 287 248 191\n",
      "   5  35  95  55 113  10 275  81  85 143 235 153 194 285 155  87  44 295\n",
      " 196 193 108  37 265 115 182 206 148 104 203  47  83 208 111 174 224   4\n",
      " 268  60  67  32 147 122 138 144  97 110 198 102  27  78 267 205 291 273\n",
      "  72  29 176 149 189 152 262 146 214 140 186   0 225 154 131  21 126 293\n",
      " 252  18 219 134 178  58 245 297 292  11  14 239  89  53 127 128 204 101\n",
      " 229  66  50  41 238  57 139 230 188 227 236 183 247 281 226  70  90 103\n",
      "  12 137  39 114  59 177 163   9 121 125 217  75 237 135  96 202 116  16\n",
      "  82  94 233 100 294  22  28   2  24 141 199  86  63 257 272 180 282  40\n",
      " 299 168 119 179  92 172 200 216 169 221  99 255 145 132  34  42 181 184\n",
      "  73 112 120  88  65 187 124  62   3 276 269 142]\n",
      "\n",
      "Kolom: Proximity_to_Beaches\n",
      "[267 190 280 255 151  47 225 166 263  15  51  21 254 148 258 209 211  50\n",
      " 293 162 169  41 241   1  54 161 185 230 291  24 294 125  90 124 296  91\n",
      "  27 149 105 181 221 134 168   8 173 250 184 167 270 133  17  18 248 138\n",
      " 227 177 285 202 121 292 262 170  73 219 164 171 207  66  76 180 216 132\n",
      "  69  99  70 205 210 182  96 115 194 251 235 114 201 281 179 102   4  59\n",
      " 187  48 284 157 232 130  52 274  57  84 198 200  79 249  25 147 108  78\n",
      " 231  72  60 223 220 239 265 215 109 237  68 197 104 297 143 203 226  55\n",
      "   7  10  58 276 247 144 111  53  62 236 100  92 253  56 141 189  12 242\n",
      " 244 110 196 158 278 283  38 287 145  74 159 268  19  26 261 272 295 243\n",
      " 286  44 116 165 103 191 178 266   3  45 269 146  89 217 279 152 264  46\n",
      " 172 186  35 206  14  71  85  82  97  98 233   2 129 252 183 113 150 271\n",
      " 260  67 106 118 214 123  36 153  28 289 213 259 175   9 228  33 299 195\n",
      " 135 298  93  43  37 240  16  63 290  65 193 288 156 208  64   5 222  77\n",
      " 160  49 122 275 139  75 107 256 136  95  61  31 163 204 142  13 155 137\n",
      "  30 119  32   6 238 101 199 154 127 229  42 218 224 174  87 140 277   0\n",
      " 246  34  83 188  22 117 234  81  88 282 128 131  39  29  11 212 245 273\n",
      "  20 257 176  40  94 192 126 120  80  23 112  86]\n",
      "\n",
      "Kolom: Favorite_Season\n",
      "['summer' 'fall' 'winter' 'spring']\n",
      "\n",
      "Kolom: Pets\n",
      "[0 1]\n",
      "\n",
      "Kolom: Environmental_Concerns\n",
      "[1 0]\n",
      "\n",
      "Kolom: Preference\n",
      "[1 0]\n"
     ]
    }
   ],
   "source": [
    "# Melihat informasi pada tiap kolom di dataset\n",
    "for col in df:\n",
    "    print(f'\\nKolom: {col}')\n",
    "    print(df[col].unique())\n"
   ]
  },
  {
   "cell_type": "markdown",
   "id": "5890ee70",
   "metadata": {},
   "source": [
    "Menampilkan tiap unique value dari tiap jenis data dalam dataset.\n",
    "Berikut adalah penjelasan dari tiap kolom dalam dataset \n",
    "- Usia: 18-69 Tahun.\n",
    "- Gender: Male, Female, Non-binary.\n",
    "- Income: $20.003 - $119.923.\n",
    "- Education Level: High School, Bachelor, Master, Doctorate.\n",
    "- Travel Frequency: 0-9.\n",
    "- Prefered Activities: Skiing, Swimming, Hiking, Sunbathing.\n",
    "- Vacation budget: $500 - $4.999.\n",
    "- Location (Tempat tinggal): Urban, Suburban, Rural.\n",
    "- Favorite Season: Winter, Spring, Summer, Fall. "
   ]
  },
  {
   "cell_type": "markdown",
   "id": "068e7f30",
   "metadata": {},
   "source": [
    "## **5. Exploration and Analysis**\n",
    "\n",
    "Proses analisis, visualisasi data, penjelasan perhitungan statistik deskriptif, dan statistik inferensial."
   ]
  },
  {
   "cell_type": "code",
   "execution_count": 45,
   "id": "40baaa5c",
   "metadata": {},
   "outputs": [
    {
     "data": {
      "text/plain": [
       "Preference\n",
       "0    39296\n",
       "1    13148\n",
       "Name: count, dtype: int64"
      ]
     },
     "execution_count": 45,
     "metadata": {},
     "output_type": "execute_result"
    }
   ],
   "source": [
    "# Menghitung nilai dari preferensi tempat berlibur di dataset\n",
    "df['Preference'].value_counts()"
   ]
  },
  {
   "cell_type": "markdown",
   "id": "0873b927",
   "metadata": {},
   "source": [
    "Menampilkan perbandingan untuk preferensi tempat tujuan wisata berdasarkan. Dari data tersebut ditampilkan bahwa nilai 0 untuk berlibur ke Gunung dan 1 untuk untuk berlibur ke Pantai. "
   ]
  },
  {
   "cell_type": "code",
   "execution_count": 46,
   "id": "7be493c5",
   "metadata": {},
   "outputs": [
    {
     "data": {
      "image/png": "[encoded data removed]",
      "text/plain": [
       "<Figure size 640x480 with 1 Axes>"
      ]
     },
     "metadata": {},
     "output_type": "display_data"
    }
   ],
   "source": [
    "sns.countplot(data=df, x='Preference') \n",
    "plt.title('Preference Distribution (0 = Beach, 1 = Mountain)')\n",
    "plt.show()"
   ]
  },
  {
   "cell_type": "markdown",
   "id": "6002cc4d",
   "metadata": {},
   "source": [
    "Berikut adalah total perbandingan tujuan tempat berwisata. Sebanyak 39.296 orang lebih memilih berlibur ke Gunung, sedangkan 13.148 orang lebih memilih untuk berlibur ke Pantai. Berdasarkan perbandingan tersebut didapatkan perbandingan nilai 1:2,99 dimana tiap terdapat satu orang yang memilih untuk berlibur ke gunung terdapat sekitar 3 orang yang lebih memilih berlibur ke pantai."
   ]
  },
  {
   "cell_type": "code",
   "execution_count": 47,
   "id": "28778100",
   "metadata": {},
   "outputs": [],
   "source": [
    "# Mengubah nilai preferensi dari 0 dan 1 menjadi 'Beach' dan 'Mountain'\n",
    "df['Preference'] = df['Preference'].replace({0: 'Beach', 1: 'Mountain'})"
   ]
  },
  {
   "cell_type": "markdown",
   "id": "b2fa4527",
   "metadata": {},
   "source": [
    "Merubah nilai pada dataset agar lebih mudah diingat, nilai 0 menjadi pantai dan nilai 1 menjadi gunung."
   ]
  },
  {
   "cell_type": "code",
   "execution_count": 48,
   "id": "e90c5aaa",
   "metadata": {},
   "outputs": [
    {
     "data": {
      "text/plain": [
       "Location\n",
       "suburban    17503\n",
       "urban       17476\n",
       "rural       17465\n",
       "Name: count, dtype: int64"
      ]
     },
     "execution_count": 48,
     "metadata": {},
     "output_type": "execute_result"
    }
   ],
   "source": [
    "# Menghitung jumlah sebaran data tempat tinggal customer pada dataset\n",
    "df['Location'].value_counts()"
   ]
  },
  {
   "cell_type": "markdown",
   "id": "c06d9258",
   "metadata": {},
   "source": [
    "Berdasarkan data diatas tidak terdapat perbedaan yang signifikan pada daerah tempat tinggal tiap customer. "
   ]
  },
  {
   "cell_type": "code",
   "execution_count": 49,
   "id": "0bf572b1",
   "metadata": {},
   "outputs": [
    {
     "data": {
      "text/plain": [
       "Location  Preference\n",
       "suburban  Beach         13133\n",
       "urban     Beach         13122\n",
       "rural     Beach         13041\n",
       "          Mountain       4424\n",
       "suburban  Mountain       4370\n",
       "urban     Mountain       4354\n",
       "Name: count, dtype: int64"
      ]
     },
     "execution_count": 49,
     "metadata": {},
     "output_type": "execute_result"
    }
   ],
   "source": [
    "# Menghitung tempat refrensi liburan berdasarkan tempat tinggal\n",
    "df[['Location', 'Preference']].value_counts()"
   ]
  },
  {
   "cell_type": "code",
   "execution_count": 50,
   "id": "7c1dee3b",
   "metadata": {},
   "outputs": [
    {
     "data": {
      "image/png": "[encoded data removed]",
      "text/plain": [
       "<Figure size 640x480 with 1 Axes>"
      ]
     },
     "metadata": {},
     "output_type": "display_data"
    }
   ],
   "source": [
    "sns.countplot(data=df, x='Location', hue='Preference')\n",
    "plt.title('Preference By Location')\n",
    "plt.show()"
   ]
  },
  {
   "cell_type": "markdown",
   "id": "c58e79c7",
   "metadata": {},
   "source": [
    "Menampilkan jumlah sebaran data untuk tempat tinggal berdasarkan pilihan tujuan wisatanya. \n",
    "Jumlah data pada orang yang memilih preferensi untuk berlibur ke gunung dari daerah urban adalah 4.354 orang, dari daerah suburban 4.370 orang, dan dari daerah rural sebanyak 4.424 orang. Sedangkan orang yang memilih preferensi untuk berlibur ke daerah pantai dari daerah urban adalah 13.122 orang, dari daerah sburban sebanyak 13.133 orang, dan dari daerah rural sebanyak 13.041. \n",
    "Berdasarkan hasil tersebut dapat disimpulkan bahwa dari dataset tempat tinggal tidak terlalu mempengaruhi preferensi tempat berlibur karena tidak adanya perbedaan data yang ekstrim."
   ]
  },
  {
   "cell_type": "code",
   "execution_count": 51,
   "id": "854cb244",
   "metadata": {},
   "outputs": [
    {
     "data": {
      "image/png": "[encoded data removed]",
      "text/plain": [
       "<Figure size 640x480 with 1 Axes>"
      ]
     },
     "metadata": {},
     "output_type": "display_data"
    },
    {
     "data": {
      "image/png": "[encoded data removed]",
      "text/plain": [
       "<Figure size 640x480 with 1 Axes>"
      ]
     },
     "metadata": {},
     "output_type": "display_data"
    }
   ],
   "source": [
    "# Memvisualisasikan data berdasarkan jarak dari tempat tinggal ke gunung dan pantai berdasarkan preferensi tempat liburan\n",
    "sns.boxplot(data=df, x='Preference', y='Proximity_to_Mountains')\n",
    "plt.title('Proximity to Mountains vs Preference')\n",
    "plt.show()\n",
    "\n",
    "sns.boxplot(data=df, x='Preference', y='Proximity_to_Beaches')\n",
    "plt.title('Proximity to Beaches vs Preference')\n",
    "plt.show()\n"
   ]
  },
  {
   "cell_type": "markdown",
   "id": "4a44dca3",
   "metadata": {},
   "source": [
    "Boxplot tersebut merupakan hasil dari jarak tempat tinggal ke tempat wisata dan refrensi tujuan wisata meraka. Dari hasil tersebut menunjukkan bahwa orang-orang cenderung untuk pergi ke pantai meskipun jarak mereka lebih jauh dari tempat tinggal mereka ke tempat wisata.\n"
   ]
  },
  {
   "cell_type": "code",
   "execution_count": 52,
   "id": "8f81a244",
   "metadata": {},
   "outputs": [
    {
     "data": {
      "text/plain": [
       "Favorite_Season  Preference\n",
       "summer           Beach         10003\n",
       "fall             Beach          9844\n",
       "winter           Beach          9761\n",
       "spring           Beach          9688\n",
       "fall             Mountain       3326\n",
       "summer           Mountain       3300\n",
       "spring           Mountain       3264\n",
       "winter           Mountain       3258\n",
       "Name: count, dtype: int64"
      ]
     },
     "execution_count": 52,
     "metadata": {},
     "output_type": "execute_result"
    }
   ],
   "source": [
    "# Menghitung preferensi tempat liburan berdasarkan musim favorit mereka\n",
    "df[['Favorite_Season', 'Preference']].value_counts()"
   ]
  },
  {
   "cell_type": "markdown",
   "id": "36a06633",
   "metadata": {},
   "source": [
    "Data tersebut menunjukkan bahwa tidak adanya perbedaan yang signifikan dari musim yang dipilih untuk berlibur, meskipun menuju ke pantai saat summer masih menjadi favorit tiap customer. \n",
    "\n",
    "Dengan total 39.296 customer yang memilih untuk pergi ke pantai, sebanyak 10.003 orang memilih berlibur saat summer, 9.844 orang memilih berlibur saat fall, 9.761 orang memilih berlibur saat winter, dan 9.688 orang memilih berlibur ke pantai saat spring.\n",
    "\n",
    "Dengan total 13.148 customer yang memilih untuk pergi ke gunung, sebanyak 3.300 orang memilih berlibur saat summer, 3.326 orang memilih berlibur saat fall, 3.258 orang memilih berlibur saat winter, dan 3.264 orang memilih berlibur ke gunung saat spring.\n"
   ]
  },
  {
   "cell_type": "code",
   "execution_count": 53,
   "id": "ca035c2d",
   "metadata": {},
   "outputs": [
    {
     "data": {
      "image/png": "[encoded data removed]",
      "text/plain": [
       "<Figure size 640x480 with 1 Axes>"
      ]
     },
     "metadata": {},
     "output_type": "display_data"
    }
   ],
   "source": [
    "# Memvisualisasikan data sebaran preferensi tempat liburan berdasarkan musim favorit\n",
    "sns.countplot(data=df, x='Favorite_Season', hue='Preference')\n",
    "plt.title('Preference By Favorite Season')\n",
    "plt.show()"
   ]
  },
  {
   "cell_type": "markdown",
   "id": "89f01dd8",
   "metadata": {},
   "source": [
    "Data tersebut menampilkan jumlah sebaran data untuk pilihan musim favorit untuk wisata berdasarkan pilihan tujuan wisatanya. Berdasarkan pilihan musim favoritnya, customer cenderung tetap berlibur ke pantai. Walaupun sebaran data tidak menunjukkan adanya sebaran data yang ekstrim, tapi customer lebih banyak berlibur ke pantai saat summer dan ke gunung saat fall."
   ]
  },
  {
   "cell_type": "code",
   "execution_count": 54,
   "id": "77d24cef",
   "metadata": {},
   "outputs": [
    {
     "data": {
      "text/plain": [
       "Travel_Frequency\n",
       "0    5259\n",
       "1    5342\n",
       "2    5271\n",
       "3    5138\n",
       "4    5280\n",
       "5    5332\n",
       "6    5203\n",
       "7    5097\n",
       "8    5238\n",
       "9    5284\n",
       "Name: count, dtype: int64"
      ]
     },
     "execution_count": 54,
     "metadata": {},
     "output_type": "execute_result"
    }
   ],
   "source": [
    "# Menghitung jumlah data dari tiap nilai di kolom Travel_Frequency \n",
    "df['Travel_Frequency'].value_counts().sort_index()"
   ]
  },
  {
   "cell_type": "markdown",
   "id": "c7873687",
   "metadata": {},
   "source": [
    "Berikut merupakan jumlah customer dari tiap travel frequency mereka. "
   ]
  },
  {
   "cell_type": "code",
   "execution_count": 55,
   "id": "1386515f",
   "metadata": {},
   "outputs": [
    {
     "data": {
      "text/plain": [
       "np.float64(5244.4)"
      ]
     },
     "execution_count": 55,
     "metadata": {},
     "output_type": "execute_result"
    }
   ],
   "source": [
    "# Menghitung nilai rata-rata dari kolom 'Travel_Frequency'\n",
    "df['Travel_Frequency'].value_counts().mean()"
   ]
  },
  {
   "cell_type": "markdown",
   "id": "a52bfc49",
   "metadata": {},
   "source": [
    "Dari data tersebut didapatkan rata-rata tiap nilai di travel frequency adalah 5244. Dari data tersebut dapat kita lihat bahwa nilai rata-rata tidak jauh berbeda dari nilai di tiap kelasnya."
   ]
  },
  {
   "cell_type": "code",
   "execution_count": 56,
   "id": "9a084f70",
   "metadata": {},
   "outputs": [],
   "source": [
    "# Membagi data kolom 'Income' menjadi 3 kelas agar data lebih mudah dibaca\n",
    "df['Kelas_Pendapatan'] = pd.qcut(df['Income'], q=3, labels=['Low', 'Medium', 'High'])"
   ]
  },
  {
   "cell_type": "code",
   "execution_count": 57,
   "id": "c1f98451",
   "metadata": {},
   "outputs": [
    {
     "data": {
      "text/plain": [
       "Income\n",
       "(20000.999, 53391.0]    17481\n",
       "(53391.0, 86691.0]      17481\n",
       "(86691.0, 119999.0]     17482\n",
       "Name: count, dtype: int64"
      ]
     },
     "execution_count": 57,
     "metadata": {},
     "output_type": "execute_result"
    }
   ],
   "source": [
    "# Membaca hasil dari pembagian data kolom 'Income' menjadi 3 kelas\n",
    "pd.qcut(df['Income'], q=3).value_counts(sort=False)\n",
    "\n"
   ]
  },
  {
   "cell_type": "markdown",
   "id": "9bafd98c",
   "metadata": {},
   "source": [
    "Berdasarkan pembagian kelas tersebut range dari kelas Income Low adalah $20.000,99 - $53.391 dengan total anggota sebanyak 17.481 orang. Dari kelas Income Medium adalah $53.391 - $86.691 dengan total anggota sebanyak 17.481 orang. dari kelas Income Low adalah $86.691 - $119.999 dengan total anggota sebanyak 17.482 orang. "
   ]
  },
  {
   "cell_type": "code",
   "execution_count": 58,
   "id": "350aab33",
   "metadata": {},
   "outputs": [
    {
     "data": {
      "text/plain": [
       "Kelas_Pendapatan  Preference\n",
       "High              Beach         13120\n",
       "Medium            Beach         13097\n",
       "Low               Beach         13079\n",
       "                  Mountain       4402\n",
       "Medium            Mountain       4384\n",
       "High              Mountain       4362\n",
       "Name: count, dtype: int64"
      ]
     },
     "execution_count": 58,
     "metadata": {},
     "output_type": "execute_result"
    }
   ],
   "source": [
    "# Menghitung preferensi tempat liburan berdasarkan kelas pendapatan\n",
    "df[['Kelas_Pendapatan', 'Preference']].value_counts()"
   ]
  },
  {
   "cell_type": "markdown",
   "id": "a85d1913",
   "metadata": {},
   "source": [
    "Data tersebut menunjukkan bahwa tidak adanya perbedaan yang signifikan dari tempat berlibur mereka berdasarkan tingkat pendapatan mereka."
   ]
  },
  {
   "cell_type": "code",
   "execution_count": 61,
   "id": "fa783377",
   "metadata": {},
   "outputs": [
    {
     "data": {
      "image/png": "[encoded data removed]",
      "text/plain": [
       "<Figure size 800x500 with 1 Axes>"
      ]
     },
     "metadata": {},
     "output_type": "display_data"
    }
   ],
   "source": [
    "plt.figure(figsize=(8, 5))\n",
    "sns.countplot(data=df, x='Kelas_Pendapatan', hue='Preference')\n",
    "plt.title('Preference By Income Class')\n",
    "plt.xlabel('Income Class')\n",
    "plt.ylabel('Population')\n",
    "plt.legend(title='Preferensi', labels=['Gunung', 'Pantai'])\n",
    "plt.show()"
   ]
  },
  {
   "cell_type": "markdown",
   "id": "51e0362b",
   "metadata": {},
   "source": [
    "Berikut adalah visualisasi analisis data yang telah dilakukan."
   ]
  },
  {
   "cell_type": "code",
   "execution_count": 62,
   "id": "97c44f2d",
   "metadata": {},
   "outputs": [
    {
     "name": "stderr",
     "output_type": "stream",
     "text": [
      "C:\\Users\\MyBook Hype AMD\\AppData\\Local\\Temp\\ipykernel_3112\\541798876.py:2: FutureWarning: \n",
      "\n",
      "Passing `palette` without assigning `hue` is deprecated and will be removed in v0.14.0. Assign the `x` variable to `hue` and set `legend=False` for the same effect.\n",
      "\n",
      "  sns.boxplot(x='Preference', y='Age', data=df[df['Preference'].isin(['Beach', 'Mountain'])], palette='Set2')\n"
     ]
    },
    {
     "data": {
      "image/png": "[encoded data removed]",
      "text/plain": [
       "<Figure size 800x500 with 1 Axes>"
      ]
     },
     "metadata": {},
     "output_type": "display_data"
    }
   ],
   "source": [
    "plt.figure(figsize=(8, 5))\n",
    "sns.boxplot(x='Preference', y='Age', data=df[df['Preference'].isin(['Beach', 'Mountain'])], palette='Set2')\n",
    "plt.title('Age Distribution by Preference')\n",
    "plt.ylabel('Age')\n",
    "plt.xlabel('Preference')\n",
    "plt.grid(axis='y')\n",
    "plt.show()\n"
   ]
  },
  {
   "cell_type": "markdown",
   "id": "071834f9",
   "metadata": {},
   "source": [
    "Berdasarkan hasil di atas nilai antar kuartil cenderung mirip atau bisa disebut sebaran usia serupa. Kedua boxplot tidak menunjukkan outlier yang esktrim, sehingga data usia relatif normal. "
   ]
  },
  {
   "cell_type": "code",
   "execution_count": 36,
   "id": "24861b10",
   "metadata": {},
   "outputs": [],
   "source": [
    "# Membagi data kolom 'Age' menjadi 4 kelas agar data lebih mudah dibaca\n",
    "df['Kelas Umur'] = pd.qcut(df['Age'], q=4, labels=['Youth', 'Adults', 'Midlife', 'Senior'])"
   ]
  },
  {
   "cell_type": "code",
   "execution_count": 37,
   "id": "ea6ac1fd",
   "metadata": {},
   "outputs": [
    {
     "data": {
      "text/plain": [
       "Age\n",
       "(17.999, 31.0]    14010\n",
       "(31.0, 43.0]      12340\n",
       "(43.0, 56.0]      13009\n",
       "(56.0, 69.0]      13085\n",
       "Name: count, dtype: int64"
      ]
     },
     "execution_count": 37,
     "metadata": {},
     "output_type": "execute_result"
    }
   ],
   "source": [
    "# Menghitung tiap kelas umur yang ada di dataset\n",
    "pd.qcut(df['Age'], q=4).value_counts(sort=False)"
   ]
  },
  {
   "cell_type": "markdown",
   "id": "7eac8784",
   "metadata": {},
   "source": [
    "Data usia responden dibagi menjadi empat kuartil. Pada rentang usia 18-31 tahun (Youth) memiliki jumlah responden terbanyak dengan total 14.010 orang dan kelompok rentang usia 31-43 tahun (Adults) memilki jumlah paling sedikit dengan total sebanyak 12.340 orang. Berdasarkan hasil tersebut rentang responden yang dapat sedikit lebih diprioritaskan adalah responden di rentang umur 18-31 tahun."
   ]
  },
  {
   "cell_type": "markdown",
   "id": "8b2dfd91",
   "metadata": {},
   "source": [
    "# Stastistik Inferensial"
   ]
  },
  {
   "cell_type": "markdown",
   "id": "bb6b37ff",
   "metadata": {},
   "source": [
    "\n",
    "H0= Preferensi Tempat wisata tidak dipengaruhi oleh musim favorit.\n",
    "\n",
    "H1= Preferensi Tempat wisata dipengaruhi oleh musim favorit."
   ]
  },
  {
   "cell_type": "code",
   "execution_count": 63,
   "id": "c3ad8d77",
   "metadata": {},
   "outputs": [
    {
     "name": "stdout",
     "output_type": "stream",
     "text": [
      "Chi-square value: 0.8621438803408502\n",
      "Degrees of freedom: 3\n",
      "P-value: 0.8345523897959298\n"
     ]
    }
   ],
   "source": [
    "# Menguji hipotesis untuk melihat apakah ada hubungan antara preferensi tempat liburan dengan musim favorit\n",
    "from scipy.stats import chi2_contingency\n",
    "\n",
    "\n",
    "preference_favseason_table = pd.crosstab(df['Preference'], df['Favorite_Season'])\n",
    "\n",
    "chi2, p, dof, expected = chi2_contingency(preference_favseason_table)\n",
    "\n",
    "print(\"Chi-square value:\", chi2)\n",
    "print(\"Degrees of freedom:\", dof)\n",
    "print(\"P-value:\", p)"
   ]
  },
  {
   "cell_type": "markdown",
   "id": "3a8c7eef",
   "metadata": {},
   "source": [
    "Berdasarkan hasil tersebut, nilai Chi-square menunjukkan bahwa tidak terdapat hubungan yang signifikan secara statistik antara preferensi tempat wisata dengan musim favorit. Nilai P-Value lebih dari 0,05, sehingga hal ini menyebabkan gagal menolak kondisi H0 yang berarti tidak ada hubungan antara preferensi tempat wisata dengan musim favorit."
   ]
  },
  {
   "cell_type": "markdown",
   "id": "abc4e261",
   "metadata": {},
   "source": [
    "# Statistik Deskriptif"
   ]
  },
  {
   "cell_type": "code",
   "execution_count": 24,
   "id": "e17f4a80",
   "metadata": {},
   "outputs": [
    {
     "name": "stderr",
     "output_type": "stream",
     "text": [
      "C:\\Users\\MyBook Hype AMD\\AppData\\Local\\Temp\\ipykernel_6348\\1151845620.py:2: FutureWarning: The default of observed=False is deprecated and will be changed to True in a future version of pandas. Pass observed=False to retain current behavior or observed=True to adopt the future default and silence this warning.\n",
      "  df.groupby('Kelas_Pendapatan')['Income'].describe()\n"
     ]
    },
    {
     "data": {
      "text/html": [
       "<div>\n",
       "<style scoped>\n",
       "    .dataframe tbody tr th:only-of-type {\n",
       "        vertical-align: middle;\n",
       "    }\n",
       "\n",
       "    .dataframe tbody tr th {\n",
       "        vertical-align: top;\n",
       "    }\n",
       "\n",
       "    .dataframe thead th {\n",
       "        text-align: right;\n",
       "    }\n",
       "</style>\n",
       "<table border=\"1\" class=\"dataframe\">\n",
       "  <thead>\n",
       "    <tr style=\"text-align: right;\">\n",
       "      <th></th>\n",
       "      <th>count</th>\n",
       "      <th>mean</th>\n",
       "      <th>std</th>\n",
       "      <th>min</th>\n",
       "      <th>25%</th>\n",
       "      <th>50%</th>\n",
       "      <th>75%</th>\n",
       "      <th>max</th>\n",
       "    </tr>\n",
       "    <tr>\n",
       "      <th>Kelas_Pendapatan</th>\n",
       "      <th></th>\n",
       "      <th></th>\n",
       "      <th></th>\n",
       "      <th></th>\n",
       "      <th></th>\n",
       "      <th></th>\n",
       "      <th></th>\n",
       "      <th></th>\n",
       "    </tr>\n",
       "  </thead>\n",
       "  <tbody>\n",
       "    <tr>\n",
       "      <th>Low</th>\n",
       "      <td>17481.0</td>\n",
       "      <td>36671.076941</td>\n",
       "      <td>9651.880242</td>\n",
       "      <td>20001.0</td>\n",
       "      <td>28213.0</td>\n",
       "      <td>36675.0</td>\n",
       "      <td>45046.0</td>\n",
       "      <td>53388.0</td>\n",
       "    </tr>\n",
       "    <tr>\n",
       "      <th>Medium</th>\n",
       "      <td>17481.0</td>\n",
       "      <td>70070.864996</td>\n",
       "      <td>9560.524162</td>\n",
       "      <td>53391.0</td>\n",
       "      <td>61792.0</td>\n",
       "      <td>70165.0</td>\n",
       "      <td>78274.0</td>\n",
       "      <td>86689.0</td>\n",
       "    </tr>\n",
       "    <tr>\n",
       "      <th>High</th>\n",
       "      <td>17482.0</td>\n",
       "      <td>103307.967509</td>\n",
       "      <td>9575.383445</td>\n",
       "      <td>86691.0</td>\n",
       "      <td>95108.5</td>\n",
       "      <td>103314.0</td>\n",
       "      <td>111570.5</td>\n",
       "      <td>119999.0</td>\n",
       "    </tr>\n",
       "  </tbody>\n",
       "</table>\n",
       "</div>"
      ],
      "text/plain": [
       "                    count           mean          std      min      25%  \\\n",
       "Kelas_Pendapatan                                                          \n",
       "Low               17481.0   36671.076941  9651.880242  20001.0  28213.0   \n",
       "Medium            17481.0   70070.864996  9560.524162  53391.0  61792.0   \n",
       "High              17482.0  103307.967509  9575.383445  86691.0  95108.5   \n",
       "\n",
       "                       50%       75%       max  \n",
       "Kelas_Pendapatan                                \n",
       "Low                36675.0   45046.0   53388.0  \n",
       "Medium             70165.0   78274.0   86689.0  \n",
       "High              103314.0  111570.5  119999.0  "
      ]
     },
     "execution_count": 24,
     "metadata": {},
     "output_type": "execute_result"
    }
   ],
   "source": [
    "# Melihat statistik deskriptif dari kolom 'Income' berdasarkan kelas pendapatan\n",
    "df.groupby('Kelas_Pendapatan')['Income'].describe()"
   ]
  },
  {
   "cell_type": "markdown",
   "id": "298380f3",
   "metadata": {},
   "source": [
    "Berdasarkan data tersebut kelas pendapatan dibagi menjadi tiga yaitu: Low, Medium, High. Rata-rata dai kelas low adalah $36.671 dari rentang nilai $20.001-$53.388. Pada kelas medium rata-ratanya $70.071 dari rentang nilai $53.391-86.689. Pada kelas High rata-ratanya $103.308 dengan rentang nilai $86.691-120.000. Nilai standar deviasi hampir mirip di tiap kelasnya sehingga variasi pendapatan cukup merata pada kelas masing-masing."
   ]
  },
  {
   "cell_type": "code",
   "execution_count": null,
   "id": "212f7642",
   "metadata": {},
   "outputs": [
    {
     "data": {
      "text/html": [
       "<div>\n",
       "<style scoped>\n",
       "    .dataframe tbody tr th:only-of-type {\n",
       "        vertical-align: middle;\n",
       "    }\n",
       "\n",
       "    .dataframe tbody tr th {\n",
       "        vertical-align: top;\n",
       "    }\n",
       "\n",
       "    .dataframe thead th {\n",
       "        text-align: right;\n",
       "    }\n",
       "</style>\n",
       "<table border=\"1\" class=\"dataframe\">\n",
       "  <thead>\n",
       "    <tr style=\"text-align: right;\">\n",
       "      <th></th>\n",
       "      <th>mean</th>\n",
       "      <th>std</th>\n",
       "      <th>skewness</th>\n",
       "      <th>kurtosis</th>\n",
       "    </tr>\n",
       "    <tr>\n",
       "      <th>Favorite_Season</th>\n",
       "      <th></th>\n",
       "      <th></th>\n",
       "      <th></th>\n",
       "      <th></th>\n",
       "    </tr>\n",
       "  </thead>\n",
       "  <tbody>\n",
       "    <tr>\n",
       "      <th>fall</th>\n",
       "      <td>43.372665</td>\n",
       "      <td>15.059033</td>\n",
       "      <td>0.018756</td>\n",
       "      <td>-1.201368</td>\n",
       "    </tr>\n",
       "    <tr>\n",
       "      <th>spring</th>\n",
       "      <td>43.592804</td>\n",
       "      <td>14.998053</td>\n",
       "      <td>-0.006474</td>\n",
       "      <td>-1.195793</td>\n",
       "    </tr>\n",
       "    <tr>\n",
       "      <th>summer</th>\n",
       "      <td>43.499361</td>\n",
       "      <td>14.890518</td>\n",
       "      <td>0.019615</td>\n",
       "      <td>-1.185382</td>\n",
       "    </tr>\n",
       "    <tr>\n",
       "      <th>winter</th>\n",
       "      <td>43.566787</td>\n",
       "      <td>14.996324</td>\n",
       "      <td>0.000801</td>\n",
       "      <td>-1.204822</td>\n",
       "    </tr>\n",
       "  </tbody>\n",
       "</table>\n",
       "</div>"
      ],
      "text/plain": [
       "                      mean        std  skewness  kurtosis\n",
       "Favorite_Season                                          \n",
       "fall             43.372665  15.059033  0.018756 -1.201368\n",
       "spring           43.592804  14.998053 -0.006474 -1.195793\n",
       "summer           43.499361  14.890518  0.019615 -1.185382\n",
       "winter           43.566787  14.996324  0.000801 -1.204822"
      ]
     },
     "execution_count": 25,
     "metadata": {},
     "output_type": "execute_result"
    }
   ],
   "source": [
    "# Mencari nilai rata-rata, standar deviasi, skewness, dan kurtosis dari kolom 'Age' berdasarkan musim favorit``\n",
    "from scipy.stats import skew, kurtosis \n",
    "\n",
    "seasona_stats = df.groupby('Favorite_Season')['Age'].agg(['mean', 'std'])\n",
    "seasona_stats['skewness'] = df.groupby('Favorite_Season')['Age'].apply(skew)\n",
    "seasona_stats['kurtosis'] = df.groupby('Favorite_Season')['Age'].apply(kurtosis)\n",
    "seasona_stats\n",
    "\n"
   ]
  },
  {
   "cell_type": "markdown",
   "id": "59de4259",
   "metadata": {},
   "source": [
    "Rata-rata umur responden relatif konsisten pada tiap musimnya. Nilai Standar variasi sekitar 15 tahun yang berarti sebaran umur cukup mirip antar musim. Nilai skewness pada tiap musim mendekati nol, hal ini menunjukkan distribusi umur hampir simetris tanpa ada kecenderungan ke kiri maupun kanan. Nilai kurtosis bernilai negatif yang mengindikasikan distribusi data umur lebih datar (platykurtic) dibandingkan distribusi normal di tiap musim. Nilai rata-rata di tiap musim favoritnya tidak berbeda jauh sehingga ini menunjukkan tidak adanya perbedaan usia yang signifikan antar orang yang menyukai musim tertentu untuk pergi berlibur. Dari data tersebut dapat diambil hasil bahwa nilai standar deviasi dan kurtosis yang tinggi menunjukkan sebaran usia cukup lebar namun tidak banyak outlier. Sedangkan untuk dari umur rata-rata dan skewnesnya tidak ada kelompok usia yang mendominasi.\n",
    "\n",
    "Artinya preferensi musim tidak ditentukan oleh jenjang usia karena semua metrik nilai umur memiliki nilai yang hampir sama."
   ]
  },
  {
   "cell_type": "markdown",
   "id": "780a6115",
   "metadata": {},
   "source": [
    "## **6. Conclusion** \n",
    "\n",
    "Berdasarkan analisis yang telah dilakukan didapatkan hasil hasil berikut:\n",
    "- Para responden cenderung untuk melakukan wisata ke Pantai daripada ke Gunung dengan perbandingan hampir 3:1. Sehingga disarankan agar budget marketing lebih difokuskan kepada promosi tempat wisata ke Pantai.\n",
    "- Tempat tinggal para responden tidak terlalu berpengaruh dengan pemilihan preferensi tempat berwisata. Sehingga disarankan agar tempat promosi merata pada tiap lokasi tempat tinggal.\n",
    "- Karena preferensi tempat wisata cenderung ke Pantai maka orang-orang lebih memilih berwisata ke Pantai walaupun tempat tinggal mereka lebih jauh dari tempat wisata. Sehingga pihak marketing juga diharapkan dapat bekerja sama dengan bidang kendaraan transportasi jarak jauh agar dapat saling menguntungkan.\n",
    "- Pilihan Musim untuk berlibur tidak memiliki jarak yang jauh antar musimnya, meskipun masih terdapat musim panas (summer) yang menjadi favorit pilihan musim berlibur dari responden. Sehingga disarankan penentuan budget marketing pada tiap musim dapat diatur menjadi 28% saat musim panas dan sisanya dapat dibagi merata pada musim yang lain. \n",
    "- Tidak adanya perbedaan yang signifikan pada kelas pendapatan, sehingga promosi dapat ditujukan pada tiap jenis kalangan.\n",
    "- Berdasarkan analisis statistik inferensial tidak ada hubungan antara preferensi tempat wisata dengan musim favorit untuk berlibur.\n",
    "- Berdasarkan analisis statistik deskriptif umur dan pendapatan tidak mempengaruhi pilihan berwisata, sehingga tidak perlu adanya perhatian khusus pada tiap jenis rentang umur maupun pendapatan dan promosi dapat dibagikan secara merata pada masyarakat umum."
   ]
  }
 ],
 "metadata": {
  "kernelspec": {
   "display_name": "base",
   "language": "python",
   "name": "python3"
  },
  "language_info": {
   "codemirror_mode": {
    "name": "ipython",
    "version": 3
   },
   "file_extension": ".py",
   "mimetype": "text/x-python",
   "name": "python",
   "nbconvert_exporter": "python",
   "pygments_lexer": "ipython3",
   "version": "3.12.9"
  }
 },
 "nbformat": 4,
 "nbformat_minor": 5
}
